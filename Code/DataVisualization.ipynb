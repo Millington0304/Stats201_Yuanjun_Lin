{
 "cells": [
  {
   "cell_type": "code",
   "execution_count": null,
   "metadata": {},
   "outputs": [],
   "source": [
    "import plotly.express as px\n",
    "import pandas as pd\n",
    "\n",
    "def skip_rows(index):\n",
    "    return index % 20 != 0\n",
    "\n",
    "# Load your dataset, skipping rows\n",
    "df = pd.read_csv('2023.prcp.us.csv', header=None, skiprows=lambda x: skip_rows(x))\n",
    "df.columns = ['Latitude', 'Longitude'] + [f'Month_{i}' for i in range(1, 13)]\n",
    "\n",
    "# Convert the dataset to long format for easier plotting with Plotly\n",
    "df_long = df.melt(id_vars=['Latitude', 'Longitude'], var_name='Month', value_name='Precipitation')\n",
    "\n",
    "# Create the interactive map\n",
    "fig = px.scatter_geo(df_long,\n",
    "                     lat='Latitude',\n",
    "                     lon='Longitude',\n",
    "                     color='Precipitation',\n",
    "                     animation_frame='Month',\n",
    "                     #scope='usa',  # Focus the map on the United States\n",
    "                     projection=\"natural earth\",\n",
    "                     title=\"US 2023 Monthly Precipitation\")\n",
    "\n",
    "fig.update_geos(\n",
    "    lataxis_range=[24.52, 49.38],  # Latitude range\n",
    "    lonaxis_range=[-124.77, -66.95]  # Longitude range\n",
    ")\n",
    "\n",
    "fig.show()"
   ]
  },
  {
   "cell_type": "code",
   "execution_count": 1,
   "metadata": {},
   "outputs": [],
   "source": [
    "import pandas as pd\n",
    "\n",
    "# Load your datasets\n",
    "# Replace 'your_actual_dataset.csv' and 'your_average_dataset.csv' with the actual file paths\n",
    "df_actual = pd.read_csv('2023.prcp.us.csv', header=None, skiprows=lambda x: x % 20 != 0)\n",
    "df_average = pd.read_csv('us_prcp_1901-2000_normal.csv', header=None, skiprows=lambda x: x % 20 != 0)\n",
    "\n",
    "# Assuming the first two columns are latitude and longitude, and the rest are the monthly values\n",
    "# Ensure that both DataFrames have the same structure\n",
    "df_actual.columns = ['Latitude', 'Longitude'] + [f'Month_{i}' for i in range(1, 13)]\n",
    "df_average.columns = ['Latitude', 'Longitude'] + [f'Month_{i}' for i in range(1, 13)]\n",
    "\n",
    "# Calculate the anomaly (actual - average)\n",
    "df_anomaly = df_actual.copy()\n",
    "df_anomaly.iloc[:, 2:] = df_actual.iloc[:, 2:] - df_average.iloc[:, 2:]*25.4\n",
    "\n",
    "# Convert the anomaly dataset to long format for easier plotting with Plotly\n",
    "df_long_anomaly = df_anomaly.melt(id_vars=['Latitude', 'Longitude'], var_name='Month', value_name='Anomaly')\n",
    "\n",
    "# Rest of your processing and visualization code...\n"
   ]
  },
  {
   "cell_type": "code",
   "execution_count": null,
   "metadata": {},
   "outputs": [],
   "source": [
    "custom_color_scale = [\n",
    "    (0.0, \"red\"),            # Red for the lowest values\n",
    "    #(0.19, \"red\"),           # Transition start from red to gray\n",
    "    (0.3, \"lightgray\"),      # Light gray at 20th percentile\n",
    "    (0.4, \"gray\"),           # Gray in the middle\n",
    "    (0.6, \"gray\"),           # Gray in the middle\n",
    "    (0.7, \"lightgray\"),      # Light gray at 80th percentile\n",
    "    #(0.81, \"blue\"),          # Transition start from gray to blue\n",
    "    (1.0, \"blue\")            # Blue for the highest values\n",
    "]\n",
    "\n",
    "# Create the interactive map with the custom color scale\n",
    "figA = px.scatter_geo(df_long_anomaly,\n",
    "                     lat='Latitude',\n",
    "                     lon='Longitude',\n",
    "                     color='Anomaly',\n",
    "                     animation_frame='Month',\n",
    "                     projection=\"natural earth\",\n",
    "                     color_continuous_scale=custom_color_scale,\n",
    "                     title=\"US 2023 Monthly Precipitation Anomaly\")\n",
    "\n",
    "figA.update_geos(\n",
    "    lataxis_range=[24.52, 49.38],  # Latitude range\n",
    "    lonaxis_range=[-124.77, -66.95]  # Longitude range\n",
    ")\n",
    "\n",
    "figA.show()"
   ]
  }
 ],
 "metadata": {
  "kernelspec": {
   "display_name": "Python 3",
   "language": "python",
   "name": "python3"
  },
  "language_info": {
   "codemirror_mode": {
    "name": "ipython",
    "version": 3
   },
   "file_extension": ".py",
   "mimetype": "text/x-python",
   "name": "python",
   "nbconvert_exporter": "python",
   "pygments_lexer": "ipython3",
   "version": "3.9.12"
  }
 },
 "nbformat": 4,
 "nbformat_minor": 2
}
